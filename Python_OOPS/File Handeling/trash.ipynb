{
 "cells": [
  {
   "cell_type": "code",
   "execution_count": 28,
   "metadata": {},
   "outputs": [],
   "source": [
    "def user_input():\n",
    "    \"\"\"This method takes the filename by the user which will be used later in other methods\n",
    "    \"\"\"\n",
    "    print(\"\\t\\tUser Input function!!\")\n",
    "    filename = input(\"Enter the name of the file here: \")\n",
    "    return filename\n"
   ]
  },
  {
   "cell_type": "code",
   "execution_count": 29,
   "metadata": {},
   "outputs": [],
   "source": [
    "\n",
    "def open_file(filename):\n",
    "    \"\"\"This method is opening the file that has been passed by the user!!!\n",
    "\n",
    "    Args:\n",
    "        filename ([string]): [description]\n",
    "    \"\"\"\n",
    "    print(\"\\t\\t\\topen_file function\")\n",
    "    m = input(\"Press 'w' to write and 'r' for read: \")\n",
    "    file = open(filename, m)\n",
    "    print(\"\\t\\tFile is opened by this function!!!\")\n",
    "    return file\n"
   ]
  },
  {
   "cell_type": "code",
   "execution_count": 30,
   "metadata": {},
   "outputs": [],
   "source": [
    "def read_file(file):\n",
    "    print(file.read())"
   ]
  },
  {
   "cell_type": "code",
   "execution_count": 31,
   "metadata": {},
   "outputs": [],
   "source": [
    "def close_file(file):\n",
    "    \"\"\"This function is called to close the file!!!\n",
    "    \"\"\"\n",
    "    file.close()"
   ]
  },
  {
   "cell_type": "code",
   "execution_count": 33,
   "metadata": {},
   "outputs": [
    {
     "output_type": "stream",
     "name": "stdout",
     "text": "User Input function!!\n\t\t\topen_file function\n\t\tFile is opened by this function!!!\nHello, this is a demo file which is being opened by the open_file function from the file file_handeling.py\n"
    }
   ],
   "source": [
    "def main():\n",
    "    filename=user_input()\n",
    "    file=open_file(filename)\n",
    "    read_file(file)\n",
    "    close_file(file)\n",
    "\n",
    "main()"
   ]
  },
  {
   "cell_type": "code",
   "execution_count": null,
   "metadata": {},
   "outputs": [],
   "source": []
  },
  {
   "cell_type": "code",
   "execution_count": 35,
   "metadata": {},
   "outputs": [],
   "source": [
    "def a(n1,n2):\n",
    "    s=n1+n2\n",
    "    m=n1*n2\n",
    "    return( s,m)\n",
    "r=a(2,3)"
   ]
  }
 ],
 "metadata": {
  "language_info": {
   "codemirror_mode": {
    "name": "ipython",
    "version": 3
   },
   "file_extension": ".py",
   "mimetype": "text/x-python",
   "name": "python",
   "nbconvert_exporter": "python",
   "pygments_lexer": "ipython3",
   "version": 3
  },
  "orig_nbformat": 2,
  "kernelspec": {
   "name": "python_defaultSpec_1609343590288",
   "display_name": "Python 3.8.6 64-bit"
  }
 },
 "nbformat": 4,
 "nbformat_minor": 2
}