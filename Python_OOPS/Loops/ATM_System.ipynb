{
 "cells": [
  {
   "cell_type": "code",
   "execution_count": null,
   "metadata": {},
   "outputs": [],
   "source": [
    "exit_card = 'n'\n",
    "chances = 1"
   ]
  },
  {
   "cell_type": "code",
   "execution_count": null,
   "metadata": {},
   "outputs": [],
   "source": [
    "def pin(chances):\n",
    "    if chances <= 3:\n",
    "        # pin_code = input(\"Please enter your PIN number here: \\t\")\n",
    "        pin_code = '3111'\n",
    "        if pin_code == '3110':\n",
    "            print(\"\\t\\twelcome to our banking system!!!\")\n",
    "        else:\n",
    "            chances += 1\n",
    "            print(\"You've entered the wrong PIN \\n Please try again!!!\")\n",
    "            pin(chances)\n",
    "    else:\n",
    "        exceded=\"You've exceeded the maximum number of chances for entering your PIN\"\n",
    "        print(exceded)\n",
    "        return(\"false\")\n"
   ]
  },
  {
   "cell_type": "code",
   "execution_count": null,
   "metadata": {},
   "outputs": [],
   "source": [
    "msg=pin(chances)\n",
    "print(msg)"
   ]
  },
  {
   "cell_type": "code",
   "execution_count": 27,
   "metadata": {},
   "outputs": [
    {
     "output_type": "stream",
     "name": "stdout",
     "text": "2\teven\n3\todd\n4\teven\nYou've exceeded the maximum number of chances for entering your PIN\n"
    },
    {
     "output_type": "execute_result",
     "data": {
      "text/plain": "'false'"
     },
     "metadata": {},
     "execution_count": 27
    }
   ],
   "source": [
    "def test():\n",
    "    i=2\n",
    "    while i<=4:\n",
    "        # print(i)\n",
    "        if i%2==0:\n",
    "            print(i,end=\"\\t\")\n",
    "            print(\"even\")\n",
    "        else:\n",
    "            print(i,end=\"\\t\")\n",
    "            print('odd')\n",
    "\n",
    "        i+=1\n",
    "    else:\n",
    "        print(\"You've exceeded the maximum number of chances for entering your PIN\")\n",
    "        return(\"false\")\n",
    "test()"
   ]
  },
  {
   "cell_type": "code",
   "execution_count": null,
   "metadata": {},
   "outputs": [],
   "source": [
    "def ATM(exit_card):\n",
    "    \"\"\"This program is an implementation of working of ATM\"\"\"\n",
    "\n",
    "    while exit_card != 'y' and 'Y' and \"yes\" and \"Yes\":\n",
    "        pin(chances)\n",
    "        exit_card = input(\n",
    "            \"Do you want to exit? \\n\\t\\t Press Y for Yes or N for No\")\n"
   ]
  },
  {
   "cell_type": "code",
   "execution_count": null,
   "metadata": {},
   "outputs": [],
   "source": [
    "ATM(exit_card)"
   ]
  },
  {
   "cell_type": "code",
   "execution_count": null,
   "metadata": {},
   "outputs": [],
   "source": []
  }
 ],
 "metadata": {
  "language_info": {
   "codemirror_mode": {
    "name": "ipython",
    "version": 3
   },
   "file_extension": ".py",
   "mimetype": "text/x-python",
   "name": "python",
   "nbconvert_exporter": "python",
   "pygments_lexer": "ipython3",
   "version": 3
  },
  "orig_nbformat": 2,
  "kernelspec": {
   "name": "python_defaultSpec_1608962607636",
   "display_name": "Python 3.8.6 64-bit"
  }
 },
 "nbformat": 4,
 "nbformat_minor": 2
}